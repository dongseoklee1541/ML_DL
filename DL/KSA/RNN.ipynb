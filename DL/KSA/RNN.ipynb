{
 "cells": [
  {
   "cell_type": "markdown",
   "metadata": {},
   "source": [
    "## TF보기\n",
    "tf.keras : tf을 쉽게.\n",
    "tf.contrib : 케라스를 더 쉽게."
   ]
  },
  {
   "cell_type": "code",
   "execution_count": 1,
   "metadata": {},
   "outputs": [
    {
     "name": "stderr",
     "output_type": "stream",
     "text": [
      "Using TensorFlow backend.\n"
     ]
    }
   ],
   "source": [
    "import numpy as np\n",
    "from keras.models import Sequential\n",
    "from keras.layers import Dense,TimeDistributed,SimpleRNN,LSTM,Activation\n",
    "from keras.utils import np_utils # Numpy 안에 utils 호출\n",
    "import os"
   ]
  },
  {
   "cell_type": "code",
   "execution_count": 2,
   "metadata": {},
   "outputs": [],
   "source": [
    "from keras.utils.vis_utils import plot_model # plot 확인을 위한 모듈"
   ]
  },
  {
   "cell_type": "code",
   "execution_count": 3,
   "metadata": {},
   "outputs": [],
   "source": [
    "#smaple text\n",
    "sample = 'hihello'"
   ]
  },
  {
   "cell_type": "code",
   "execution_count": 4,
   "metadata": {},
   "outputs": [
    {
     "data": {
      "text/plain": [
       "{'h': 0, 'e': 1, 'o': 2, 'l': 3, 'i': 4}"
      ]
     },
     "execution_count": 4,
     "metadata": {},
     "output_type": "execute_result"
    }
   ],
   "source": [
    "# word dict 만들기\n",
    "char_set = list(set(sample)) # id -> char['i','l','e','h','o']\n",
    "char_dic = {w : i for i , w in enumerate(char_set)}\n",
    "char_dic"
   ]
  },
  {
   "cell_type": "code",
   "execution_count": 5,
   "metadata": {},
   "outputs": [],
   "source": [
    "# 학습용 데이터 만들기 \n",
    "x_str = sample[:-1] # input, 맨 마지막 값은 없이.\n",
    "y_str = sample[1:] # output, 첫번째 입력값은 없이."
   ]
  },
  {
   "cell_type": "code",
   "execution_count": 6,
   "metadata": {},
   "outputs": [],
   "source": [
    "data_dim = len(char_set) # 데이터 구조의 길이\n",
    "timesteps = len(y_str) # y의 개수를 읽어서 미리 예측, 시간을 입력해놓음\n",
    "num_classes = len(char_set)"
   ]
  },
  {
   "cell_type": "code",
   "execution_count": 7,
   "metadata": {},
   "outputs": [
    {
     "name": "stdout",
     "output_type": "stream",
     "text": [
      "hihell ihello\n"
     ]
    }
   ],
   "source": [
    "print(x_str,y_str)\n",
    "x = [char_dic[c] for c in x_str]\n",
    "y = [char_dic[c] for c in y_str]"
   ]
  },
  {
   "cell_type": "code",
   "execution_count": 8,
   "metadata": {},
   "outputs": [
    {
     "name": "stdout",
     "output_type": "stream",
     "text": [
      "[[1. 0. 0. 0. 0.]\n",
      " [0. 0. 0. 0. 1.]\n",
      " [1. 0. 0. 0. 0.]\n",
      " [0. 1. 0. 0. 0.]\n",
      " [0. 0. 0. 1. 0.]\n",
      " [0. 0. 0. 1. 0.]]\n",
      "(1, 6, 5)\n"
     ]
    }
   ],
   "source": [
    "# one - hot encoding\n",
    "x = np_utils.to_categorical(x,num_classes = num_classes)\n",
    "print(x)\n",
    "#reshape X to be [samples,time steps, features]\n",
    "x = np.reshape(x,(-1,len(x),data_dim)) # -1 : 최대한 읽어들이고 / len,data_dim 만큼 한번에 입력.\n",
    "print(x.shape)  # (data의 개수,timestep,벡터의 크기)"
   ]
  },
  {
   "cell_type": "code",
   "execution_count": 9,
   "metadata": {},
   "outputs": [
    {
     "name": "stdout",
     "output_type": "stream",
     "text": [
      "(1, 6, 5)\n",
      "[[[0. 0. 0. 0. 1.]\n",
      "  [1. 0. 0. 0. 0.]\n",
      "  [0. 1. 0. 0. 0.]\n",
      "  [0. 0. 0. 1. 0.]\n",
      "  [0. 0. 0. 1. 0.]\n",
      "  [0. 0. 1. 0. 0.]]]\n"
     ]
    }
   ],
   "source": [
    "y = np_utils.to_categorical(y,num_classes = num_classes)\n",
    "y = np.reshape(y,(-1,len(y),data_dim))\n",
    "print(y.shape)\n",
    "print(y) # 3차원 배열으로 변신"
   ]
  },
  {
   "cell_type": "code",
   "execution_count": 10,
   "metadata": {},
   "outputs": [
    {
     "name": "stdout",
     "output_type": "stream",
     "text": [
      "WARNING:tensorflow:From C:\\ProgramData\\Anaconda3\\envs\\keras\\lib\\site-packages\\tensorflow\\python\\framework\\op_def_library.py:263: colocate_with (from tensorflow.python.framework.ops) is deprecated and will be removed in a future version.\n",
      "Instructions for updating:\n",
      "Colocations handled automatically by placer.\n",
      "_________________________________________________________________\n",
      "Layer (type)                 Output Shape              Param #   \n",
      "=================================================================\n",
      "lstm_1 (LSTM)                (None, 6, 5)              220       \n",
      "_________________________________________________________________\n",
      "dense_1 (Dense)              (None, 6, 5)              30        \n",
      "_________________________________________________________________\n",
      "activation_1 (Activation)    (None, 6, 5)              0         \n",
      "=================================================================\n",
      "Total params: 250\n",
      "Trainable params: 250\n",
      "Non-trainable params: 0\n",
      "_________________________________________________________________\n"
     ]
    }
   ],
   "source": [
    "# vanila SimpleRNN\n",
    "model = Sequential()\n",
    "model.add(LSTM(num_classes,input_shape=(  # num_classes 는 hidden layer의 노드 개수로 지정(one-hot의 계수값)\n",
    "timesteps,data_dim),return_sequences=True))  # 6,5 의 구조로 입력 \n",
    "model.add(Dense(num_classes))\n",
    "model.add(Activation('softmax'))\n",
    "model.summary()"
   ]
  },
  {
   "cell_type": "code",
   "execution_count": 11,
   "metadata": {},
   "outputs": [
    {
     "name": "stdout",
     "output_type": "stream",
     "text": [
      "WARNING:tensorflow:From C:\\ProgramData\\Anaconda3\\envs\\keras\\lib\\site-packages\\tensorflow\\python\\ops\\math_ops.py:3066: to_int32 (from tensorflow.python.ops.math_ops) is deprecated and will be removed in a future version.\n",
      "Instructions for updating:\n",
      "Use tf.cast instead.\n",
      "WARNING:tensorflow:From C:\\ProgramData\\Anaconda3\\envs\\keras\\lib\\site-packages\\tensorflow\\python\\ops\\math_grad.py:102: div (from tensorflow.python.ops.math_ops) is deprecated and will be removed in a future version.\n",
      "Instructions for updating:\n",
      "Deprecated in favor of operator or tf.math.divide.\n",
      "Epoch 1/1\n",
      "1/1 [==============================] - 2s 2s/step - loss: 1.6352 - acc: 0.1667\n"
     ]
    },
    {
     "data": {
      "text/plain": [
       "<keras.callbacks.History at 0x1e62cc490f0>"
      ]
     },
     "execution_count": 11,
     "metadata": {},
     "output_type": "execute_result"
    }
   ],
   "source": [
    "model.compile(loss='categorical_crossentropy',\n",
    "             optimizer = 'adam', metrics=['accuracy'])\n",
    "model.fit(x,y,epochs=1,batch_size=1) \n",
    "# 2개의 차원이여야하는데 y가 3차원으로 들어와서 에러 발생\n"
   ]
  },
  {
   "cell_type": "code",
   "execution_count": 12,
   "metadata": {},
   "outputs": [],
   "source": [
    "predictions = model.predict(x,verbose=0)"
   ]
  },
  {
   "cell_type": "code",
   "execution_count": 13,
   "metadata": {},
   "outputs": [
    {
     "name": "stdout",
     "output_type": "stream",
     "text": [
      "[[0.20592304 0.17911749 0.22949092 0.18792568 0.1975429 ]\n",
      " [0.22683398 0.16472787 0.22995947 0.17855151 0.19992717]\n",
      " [0.21731678 0.1600705  0.2520188  0.17835566 0.19223833]\n",
      " [0.2073616  0.17752913 0.23435663 0.18319471 0.19755788]\n",
      " [0.20130841 0.17130901 0.24638201 0.16959374 0.21140677]\n",
      " [0.19938524 0.17050123 0.24843967 0.16176145 0.2199124 ]]\n",
      "[0 4 0 1 3 3] hihell\n",
      "[2 2 2 2 2 2] oooooo\n",
      "['h', 'i', 'h', 'e', 'l', 'l']\n"
     ]
    }
   ],
   "source": [
    "for i,prediction in enumerate(predictions):\n",
    "    print(prediction)\n",
    "    x_index = np.argmax(x[i],axis=1)\n",
    "    x_str = [char_set[j] for j in x_index]\n",
    "    print(x_index,''.join(x_str))\n",
    "    \n",
    "    index = np.argmax(prediction,axis=1)\n",
    "    result = [char_set[j] for j in index]\n",
    "    print(index,''.join(result))\n",
    "print(x_str)"
   ]
  },
  {
   "cell_type": "code",
   "execution_count": null,
   "metadata": {},
   "outputs": [],
   "source": []
  }
 ],
 "metadata": {
  "kernelspec": {
   "display_name": "kears",
   "language": "python",
   "name": "keras"
  },
  "language_info": {
   "codemirror_mode": {
    "name": "ipython",
    "version": 3
   },
   "file_extension": ".py",
   "mimetype": "text/x-python",
   "name": "python",
   "nbconvert_exporter": "python",
   "pygments_lexer": "ipython3",
   "version": "3.6.8"
  }
 },
 "nbformat": 4,
 "nbformat_minor": 2
}
