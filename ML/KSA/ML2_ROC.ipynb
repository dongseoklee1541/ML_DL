{
 "cells": [
  {
   "cell_type": "code",
   "execution_count": 2,
   "metadata": {},
   "outputs": [],
   "source": [
    "import numpy as np\n",
    "import pandas as pd\n",
    "import matplotlib.pyplot as plt\n",
    "import seaborn as sns\n",
    "#roc curve, auc score\n",
    "from sklearn.datasets import make_classification\n",
    "from sklearn.neighbors import KNeighborsClassifier\n",
    "from sklearn.model_selection import train_test_split\n",
    "from sklearn.metrics import roc_curve\n",
    "from sklearn.metrics import roc_auc_score"
   ]
  },
  {
   "cell_type": "code",
   "execution_count": 17,
   "metadata": {},
   "outputs": [],
   "source": [
    "def plot_roc_curve(fpr,tpr):\n",
    "    plt.plot(fpr,tpr,color='orange',label='ROC')\n",
    "    plt.plot([0,1],[0,1],color='darkblue',linestyle='--')\n",
    "    plt.xlabel('False Positive Rate')\n",
    "    plt.ylabel('True Postive Rate')\n",
    "    plt.title('Receiver Operating Characterisitc (ROC)curve')\n",
    "    plt.legend()\n",
    "    plt.show()"
   ]
  },
  {
   "cell_type": "code",
   "execution_count": 7,
   "metadata": {},
   "outputs": [],
   "source": [
    "data_X,class_label = make_classification(n_samples=1000, n_classes=2, weights=[1,1],random_state=1)"
   ]
  },
  {
   "cell_type": "code",
   "execution_count": 8,
   "metadata": {},
   "outputs": [],
   "source": [
    "trainX,testX,trainy,testy = train_test_split(data_X,class_label,test_size=0.3,random_state=1)"
   ]
  },
  {
   "cell_type": "code",
   "execution_count": 9,
   "metadata": {},
   "outputs": [
    {
     "data": {
      "text/plain": [
       "KNeighborsClassifier(algorithm='auto', leaf_size=30, metric='minkowski',\n",
       "           metric_params=None, n_jobs=None, n_neighbors=5, p=2,\n",
       "           weights='uniform')"
      ]
     },
     "execution_count": 9,
     "metadata": {},
     "output_type": "execute_result"
    }
   ],
   "source": [
    "model =KNeighborsClassifier()\n",
    "model.fit(trainX,trainy)"
   ]
  },
  {
   "cell_type": "code",
   "execution_count": 10,
   "metadata": {},
   "outputs": [],
   "source": [
    "probs = model.predict_proba(testX)\n",
    "probs = probs[:,1]"
   ]
  },
  {
   "cell_type": "code",
   "execution_count": 13,
   "metadata": {},
   "outputs": [
    {
     "name": "stdout",
     "output_type": "stream",
     "text": [
      "ROC:(array([0.        , 0.01408451, 0.0915493 , 0.18309859, 0.33098592,\n",
      "       0.5       , 1.        ]), array([0.        , 0.2721519 , 0.65189873, 0.89873418, 0.98101266,\n",
      "       0.99367089, 1.        ]), array([2. , 1. , 0.8, 0.6, 0.4, 0.2, 0. ]))\n",
      "AUC:0.91\n"
     ]
    }
   ],
   "source": [
    "roc =roc_curve(testy,probs)\n",
    "print('ROC:{}'.format(roc))\n",
    "auc = roc_auc_score(testy,probs)\n",
    "print('AUC:%.2f'%auc)"
   ]
  },
  {
   "cell_type": "code",
   "execution_count": 18,
   "metadata": {},
   "outputs": [
    {
     "data": {
      "image/png": "[encoded data removed]",
      "text/plain": [
       "<Figure size 432x288 with 1 Axes>"
      ]
     },
     "metadata": {
      "needs_background": "light"
     },
     "output_type": "display_data"
    }
   ],
   "source": [
    "fpr,tpr,thrsholds = roc_curve(testy,probs)\n",
    "plot_roc_curve(fpr,tpr)"
   ]
  },
  {
   "cell_type": "markdown",
   "metadata": {},
   "source": [
    "K-fold corss"
   ]
  },
  {
   "cell_type": "code",
   "execution_count": 20,
   "metadata": {},
   "outputs": [
    {
     "name": "stdout",
     "output_type": "stream",
     "text": [
      "교차검증 점수: [0.98039216 0.98039216 1.        ]\n"
     ]
    },
    {
     "name": "stderr",
     "output_type": "stream",
     "text": [
      "C:\\ProgramData\\Anaconda3\\envs\\mypy\\lib\\site-packages\\sklearn\\model_selection\\_split.py:2053: FutureWarning: You should specify a value for 'cv' instead of relying on the default value. The default value will change from 3 to 5 in version 0.22.\n",
      "  warnings.warn(CV_WARNING, FutureWarning)\n"
     ]
    }
   ],
   "source": [
    "from sklearn.model_selection import cross_val_score\n",
    "from sklearn.datasets import load_iris\n",
    "from sklearn.neighbors import KNeighborsClassifier\n",
    "iris =load_iris()\n",
    "KNN = KNeighborsClassifier()\n",
    "score = cross_val_score(KNN,iris.data,iris.target)\n",
    "print(\"교차검증 점수:\",score)"
   ]
  },
  {
   "cell_type": "code",
   "execution_count": 22,
   "metadata": {},
   "outputs": [
    {
     "name": "stdout",
     "output_type": "stream",
     "text": [
      "교차 검증 점수: [0.96666667 1.         0.93333333 0.96666667 1.        ]\n"
     ]
    }
   ],
   "source": [
    "score = cross_val_score(KNN,iris.data,iris.target,cv=5)\n",
    "print(\"교차 검증 점수:\",score)"
   ]
  },
  {
   "cell_type": "code",
   "execution_count": 28,
   "metadata": {},
   "outputs": [
    {
     "data": {
      "text/plain": [
       "{'fit_time': array([0.        , 0.00049496, 0.00049591, 0.        , 0.00053144]),\n",
       " 'score_time': array([0.00198627, 0.00148845, 0.00199962, 0.00148845, 0.00145364]),\n",
       " 'test_score': array([0.96666667, 1.        , 0.93333333, 0.96666667, 1.        ]),\n",
       " 'train_score': array([0.96666667, 0.96666667, 0.975     , 0.975     , 0.96666667])}"
      ]
     },
     "metadata": {},
     "output_type": "display_data"
    }
   ],
   "source": [
    "from sklearn.model_selection import cross_validate\n",
    "res= cross_validate(KNN,iris.data,iris.target,cv=5,return_train_score=True)\n",
    "display(res)"
   ]
  },
  {
   "cell_type": "markdown",
   "metadata": {},
   "source": [
    "LOOCV"
   ]
  },
  {
   "cell_type": "code",
   "execution_count": 31,
   "metadata": {},
   "outputs": [
    {
     "name": "stdout",
     "output_type": "stream",
     "text": [
      "교차검증 분할 횟수:  150\n",
      "평균 정확도: 0.966667\n"
     ]
    }
   ],
   "source": [
    "from sklearn.model_selection import LeaveOneOut\n",
    "loo = LeaveOneOut()\n",
    "scores = cross_val_score(KNN,iris.data,iris.target,cv=loo)\n",
    "print(\"교차검증 분할 횟수: \",len(scores))\n",
    "print(\"평균 정확도: {:2f}\".format(scores.mean()))"
   ]
  },
  {
   "cell_type": "markdown",
   "metadata": {},
   "source": [
    "SSCV"
   ]
  },
  {
   "cell_type": "code",
   "execution_count": 32,
   "metadata": {},
   "outputs": [
    {
     "data": {
      "text/plain": [
       "array([0.98666667, 0.97333333, 0.93333333, 0.97333333, 0.96      ,\n",
       "       0.97333333, 0.98666667, 0.96      , 1.        , 0.97333333])"
      ]
     },
     "execution_count": 32,
     "metadata": {},
     "output_type": "execute_result"
    }
   ],
   "source": [
    "from sklearn.model_selection import ShuffleSplit\n",
    "Shuffle_Split = ShuffleSplit(test_size=.5,train_size=.5,n_splits=10)\n",
    "scores =cross_val_score(KNN,iris.data,iris.target,cv=Shuffle_Split)\n",
    "scores"
   ]
  },
  {
   "cell_type": "markdown",
   "metadata": {},
   "source": [
    "## Grid  search\n",
    "- 매개변수를 튜닝(조절)하는 메서드"
   ]
  },
  {
   "cell_type": "code",
   "execution_count": 40,
   "metadata": {},
   "outputs": [
    {
     "name": "stdout",
     "output_type": "stream",
     "text": [
      "훈련 세트의 크기:112 테스트 세트의 크기: 38\n",
      "최고 점수: 0.97\n",
      "최적 매개변수:  {'C': 100, 'gamma': 0.001}\n"
     ]
    }
   ],
   "source": [
    "from sklearn.svm import SVC\n",
    "X_train,X_test,y_train,y_test = train_test_split(iris.data,iris.target,random_state=0)\n",
    "print(\"훈련 세트의 크기:{} 테스트 세트의 크기: {}\".format(X_train.shape[0],X_test.shape[0]))\n",
    "best_score = 0\n",
    "\n",
    "for gamma in [0.001,0.01,0.1,1,10,100]:\n",
    "    for C in [0.001,0.01,0.1,1,10,100]:\n",
    "        svm =SVC(gamma=gamma ,C=C)\n",
    "        svm.fit(X_train,y_train)\n",
    "        score = svm.score(X_test,y_test)\n",
    "        if score>best_score:\n",
    "            best_score = score\n",
    "            best_parameters = {'C': C, 'gamma': gamma}\n",
    "\n",
    "print(\"최고 점수: {:.2f}\".format(best_score))\n",
    "print(\"최적 매개변수: \",best_parameters)\n"
   ]
  },
  {
   "cell_type": "markdown",
   "metadata": {},
   "source": [
    "Valid 데이터 셋까지 나눠서 해보자."
   ]
  },
  {
   "cell_type": "code",
   "execution_count": 51,
   "metadata": {},
   "outputs": [
    {
     "name": "stdout",
     "output_type": "stream",
     "text": [
      "훈련 세트의 크기:84 검증 세트의 크기: 28 테스트 세트의 크기: 38\n",
      "검증 세트에서 최고 점수:0.96\n",
      "최적 매개변수: {'C': 10, 'gamma': 0.001}\n",
      "최적 매개변수에서 테스트 세트 점수:0.92\n"
     ]
    }
   ],
   "source": [
    "X_trainval,X_test,y_trainval,y_test = train_test_split(iris.data,iris.target,random_state=0)\n",
    "#X_train,X_valid,y_train,y_valid = train_test_split(X_trainval,y_trainval,random_state=0)\n",
    "X_train,X_valid,y_train,y_valid = train_test_split(X_trainval,y_trainval,random_state=1)\n",
    "print(\"훈련 세트의 크기:{} 검증 세트의 크기: {} 테스트 세트의 크기: {}\"\n",
    "      .format(X_train.shape[0],X_valid.shape[0],X_test.shape[0]))\n",
    "best_score =0\n",
    "for gamma in [0.001,0.01,0.1,1,10,100]:\n",
    "    for C in [0.001,0.01,0.1,1,10,100]:\n",
    "        svm =SVC(gamma=gamma ,C=C)\n",
    "        svm.fit(X_train,y_train)\n",
    "        score = svm.score(X_valid,y_valid)\n",
    "        if score>best_score:\n",
    "            best_score = score\n",
    "            best_parameters = {'C': C, 'gamma': gamma}\n",
    "\n",
    "svm=SVC(**best_parameters)\n",
    "svm.fit(X_trainval,y_trainval)\n",
    "test_score = svm.score(X_test,y_test)\n",
    "print(\"검증 세트에서 최고 점수:{:.2f}\".format(best_score))\n",
    "print(\"최적 매개변수:\",best_parameters)\n",
    "print(\"최적 매개변수에서 테스트 세트 점수:{:.2f}\".format(test_score))\n"
   ]
  },
  {
   "cell_type": "code",
   "execution_count": null,
   "metadata": {},
   "outputs": [],
   "source": []
  }
 ],
 "metadata": {
  "kernelspec": {
   "display_name": "MyPython",
   "language": "python",
   "name": "mypy"
  },
  "language_info": {
   "codemirror_mode": {
    "name": "ipython",
    "version": 3
   },
   "file_extension": ".py",
   "mimetype": "text/x-python",
   "name": "python",
   "nbconvert_exporter": "python",
   "pygments_lexer": "ipython3",
   "version": "3.6.8"
  },
  "widgets": {
   "state": {},
   "version": "1.1.2"
  }
 },
 "nbformat": 4,
 "nbformat_minor": 2
}
